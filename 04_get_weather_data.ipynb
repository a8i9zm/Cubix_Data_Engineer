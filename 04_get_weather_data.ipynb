{
 "cells": [
  {
   "cell_type": "code",
   "execution_count": null,
   "metadata": {},
   "outputs": [],
   "source": [
    "import json, os, requests\n",
    "from dateutil.relativedelta import relativedelta \n",
    "from datetime import datetime\n",
    "import pandas as pd"
   ]
  },
  {
   "cell_type": "code",
   "execution_count": null,
   "metadata": {},
   "outputs": [],
   "source": [
    "# for web scraping \"pip install pip_system_certs\" might be needed.\n",
    "\n",
    "url = \"https://archive-api.open-meteo.com/v1/era5?latitude=52.52&longitude=13.41&start_date=2021-01-01&end_date=2021-12-31&hourly=temperature_2m\"\n",
    "\n",
    "response = requests.get(url)\n",
    "\n",
    "response.json()"
   ]
  },
  {
   "cell_type": "code",
   "execution_count": null,
   "metadata": {},
   "outputs": [],
   "source": [
    "current_datetime = datetime.now() - relativedelta(months=2)\n",
    "\n",
    "formatted_datetime = current_datetime.strftime('%Y-%m-%d')\n",
    "\n",
    "url = \"https://archive-api.open-meteo.com/v1/era5\"\n",
    "date = '2024-04-01'\n",
    "params={\n",
    "    'latitude': 41.85,\n",
    "    'longitude': -87.65,\n",
    "    'start_date': formatted_datetime,\n",
    "    'end_date': formatted_datetime,\n",
    "    'hourly': 'temperature_2m,wind_speed_10m,precipitation,rain'\n",
    "}\n",
    "\n",
    "response = requests.get(url, params=params)\n",
    "\n",
    "weather_data = response.json()\n",
    "\n",
    "weather_data"
   ]
  },
  {
   "cell_type": "code",
   "execution_count": 11,
   "metadata": {},
   "outputs": [],
   "source": [
    "weather_data_filtered = {\n",
    "'datetime': weather_data['hourly']['time'],\n",
    "'temperature': weather_data['hourly']['temperature_2m'],\n",
    "'wind_speed': weather_data['hourly']['wind_speed_10m'],\n",
    "'precipitation': weather_data['hourly']['precipitation'],\n",
    "'rain': weather_data['hourly']['rain']\n",
    "}\n",
    "\n"
   ]
  },
  {
   "cell_type": "code",
   "execution_count": 16,
   "metadata": {},
   "outputs": [
    {
     "data": {
      "text/html": [
       "<div>\n",
       "<style scoped>\n",
       "    .dataframe tbody tr th:only-of-type {\n",
       "        vertical-align: middle;\n",
       "    }\n",
       "\n",
       "    .dataframe tbody tr th {\n",
       "        vertical-align: top;\n",
       "    }\n",
       "\n",
       "    .dataframe thead th {\n",
       "        text-align: right;\n",
       "    }\n",
       "</style>\n",
       "<table border=\"1\" class=\"dataframe\">\n",
       "  <thead>\n",
       "    <tr style=\"text-align: right;\">\n",
       "      <th></th>\n",
       "      <th>datetime</th>\n",
       "      <th>temperature</th>\n",
       "      <th>wind_speed</th>\n",
       "      <th>precipitation</th>\n",
       "      <th>rain</th>\n",
       "    </tr>\n",
       "  </thead>\n",
       "  <tbody>\n",
       "    <tr>\n",
       "      <th>0</th>\n",
       "      <td>2024-02-29 00:00:00</td>\n",
       "      <td>-2.4</td>\n",
       "      <td>22.2</td>\n",
       "      <td>0.0</td>\n",
       "      <td>0.0</td>\n",
       "    </tr>\n",
       "    <tr>\n",
       "      <th>1</th>\n",
       "      <td>2024-02-29 01:00:00</td>\n",
       "      <td>-2.8</td>\n",
       "      <td>19.8</td>\n",
       "      <td>0.0</td>\n",
       "      <td>0.0</td>\n",
       "    </tr>\n",
       "    <tr>\n",
       "      <th>2</th>\n",
       "      <td>2024-02-29 02:00:00</td>\n",
       "      <td>-3.4</td>\n",
       "      <td>18.6</td>\n",
       "      <td>0.0</td>\n",
       "      <td>0.0</td>\n",
       "    </tr>\n",
       "    <tr>\n",
       "      <th>3</th>\n",
       "      <td>2024-02-29 03:00:00</td>\n",
       "      <td>-3.9</td>\n",
       "      <td>20.7</td>\n",
       "      <td>0.0</td>\n",
       "      <td>0.0</td>\n",
       "    </tr>\n",
       "    <tr>\n",
       "      <th>4</th>\n",
       "      <td>2024-02-29 04:00:00</td>\n",
       "      <td>-4.3</td>\n",
       "      <td>23.0</td>\n",
       "      <td>0.0</td>\n",
       "      <td>0.0</td>\n",
       "    </tr>\n",
       "  </tbody>\n",
       "</table>\n",
       "</div>"
      ],
      "text/plain": [
       "             datetime  temperature  wind_speed  precipitation  rain\n",
       "0 2024-02-29 00:00:00         -2.4        22.2            0.0   0.0\n",
       "1 2024-02-29 01:00:00         -2.8        19.8            0.0   0.0\n",
       "2 2024-02-29 02:00:00         -3.4        18.6            0.0   0.0\n",
       "3 2024-02-29 03:00:00         -3.9        20.7            0.0   0.0\n",
       "4 2024-02-29 04:00:00         -4.3        23.0            0.0   0.0"
      ]
     },
     "execution_count": 16,
     "metadata": {},
     "output_type": "execute_result"
    }
   ],
   "source": [
    "weather_df = pd.DataFrame(weather_data_filtered)\n",
    "\n",
    "weather_df['datetime'] = pd.to_datetime(weather_df['datetime'])\n",
    "\n",
    "weather_df.head()\n"
   ]
  },
  {
   "cell_type": "code",
   "execution_count": null,
   "metadata": {},
   "outputs": [],
   "source": [
    "weather_data_filtered = {\n",
    "'datetime': weather_data['hourly']['time'],\n",
    "'temperature': weather_data['hourly']['temperature_2m'],\n",
    "'wind_speed': weather_data['hourly']['wind_speed_10m'],\n",
    "'precipitation': weather_data['hourly']['precipitation'],\n",
    "'rain': weather_data['hourly']['rain']\n",
    "}\n",
    "\n",
    "weather_df = pd.DataFrame(weather_data_filtered)\n",
    "\n",
    "weather_df['datetime'] = pd.to_datetime(weather_df['datetime'])\n",
    "\n",
    "weather_df.to_csv('weather_data_date.csv', index=False)"
   ]
  }
 ],
 "metadata": {
  "kernelspec": {
   "display_name": "venv",
   "language": "python",
   "name": "python3"
  },
  "language_info": {
   "codemirror_mode": {
    "name": "ipython",
    "version": 3
   },
   "file_extension": ".py",
   "mimetype": "text/x-python",
   "name": "python",
   "nbconvert_exporter": "python",
   "pygments_lexer": "ipython3",
   "version": "3.12.1"
  }
 },
 "nbformat": 4,
 "nbformat_minor": 2
}
