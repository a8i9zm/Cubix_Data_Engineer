{
 "cells": [
  {
   "cell_type": "code",
   "execution_count": 2,
   "metadata": {},
   "outputs": [],
   "source": [
    "import json, os, requests\n",
    "from dateutil.relativedelta import relativedelta \n",
    "from datetime import datetime\n",
    "import pandas as pd\n",
    "pd.set_option('display.max_columns', 30)"
   ]
  },
  {
   "cell_type": "code",
   "execution_count": 3,
   "metadata": {},
   "outputs": [
    {
     "data": {
      "text/plain": [
       "'\\n1. get the data from S3\\n2. weather_data tranformations\\n3. taxi_trips transformations\\n4. update payment_type_master\\n5. update company_master\\n6. update taxi_trips with company and payment_type ids (replace the string values with ids from the latest master tables)\\n7. upload weather_data to S3\\n8. upload taxi data to S3\\n9. upload the newest payment_type_master and company_master\\n'"
      ]
     },
     "execution_count": 3,
     "metadata": {},
     "output_type": "execute_result"
    }
   ],
   "source": [
    "'''\n",
    "1. get the data from S3\n",
    "2. weather_data tranformations\n",
    "3. taxi_trips transformations\n",
    "4. update payment_type_master\n",
    "5. update company_master\n",
    "6. update taxi_trips with company and payment_type ids (replace the string values with ids from the latest master tables)\n",
    "7. upload weather_data to S3\n",
    "8. upload taxi data to S3\n",
    "9. upload the newest payment_type_master and company_master\n",
    "'''"
   ]
  },
  {
   "cell_type": "markdown",
   "metadata": {},
   "source": [
    "### taxi_trips transformation codes"
   ]
  },
  {
   "cell_type": "code",
   "execution_count": 4,
   "metadata": {},
   "outputs": [
    {
     "name": "stderr",
     "output_type": "stream",
     "text": [
      "c:\\Users\\dterjeks\\OneDrive - DXC Production\\Scripts\\Cubix_Data_Engineer_Repos\\Cubix_Data_Engineer\\venv\\Lib\\site-packages\\urllib3\\connectionpool.py:1103: InsecureRequestWarning: Unverified HTTPS request is being made to host 'data.cityofchicago.org'. Adding certificate verification is strongly advised. See: https://urllib3.readthedocs.io/en/latest/advanced-usage.html#tls-warnings\n",
      "  warnings.warn(\n"
     ]
    }
   ],
   "source": [
    "current_datetime = datetime.now() - relativedelta(months=2)\n",
    "\n",
    "formatted_datetime = current_datetime.strftime('%Y-%m-%d')\n",
    "\n",
    "\n",
    "url = f\"https://data.cityofchicago.org/resource/ajtu-isnz.json?$where=trip_start_timestamp >= '{formatted_datetime}T00:00:00.000' AND trip_start_timestamp <= '{formatted_datetime}T23:59:59.000'&$limit=30000\"\n",
    "headers = {'X-App-Token': os.environ.get('CHICAGO_API_TOKEN')}\n",
    "\n",
    "response = requests.get(url, headers=headers, verify=False)\n",
    "\n",
    "data = response.json()"
   ]
  },
  {
   "cell_type": "code",
   "execution_count": 5,
   "metadata": {},
   "outputs": [],
   "source": [
    "taxi_trips = pd.DataFrame(data)"
   ]
  },
  {
   "cell_type": "code",
   "execution_count": 6,
   "metadata": {},
   "outputs": [],
   "source": [
    "taxi_trips.drop(['pickup_census_tract','dropoff_census_tract', 'pickup_centroid_location', 'dropoff_centroid_location'], axis=1, inplace=True) "
   ]
  },
  {
   "cell_type": "code",
   "execution_count": 7,
   "metadata": {},
   "outputs": [],
   "source": [
    "taxi_trips.dropna(inplace=True)"
   ]
  },
  {
   "cell_type": "code",
   "execution_count": 8,
   "metadata": {},
   "outputs": [],
   "source": [
    "taxi_trips.rename(columns={\n",
    "    'pickup_community_area': 'pickup_community_area_id',\n",
    "    'dropoff_community_area': 'dropoff_community_area_id'},\n",
    "    inplace=True\n",
    ")"
   ]
  },
  {
   "cell_type": "code",
   "execution_count": 12,
   "metadata": {},
   "outputs": [],
   "source": [
    "taxi_trips['datetime_for_weather'] = pd.to_datetime(taxi_trips['trip_start_timestamp']).dt.floor('h')"
   ]
  },
  {
   "cell_type": "code",
   "execution_count": 10,
   "metadata": {},
   "outputs": [],
   "source": [
    "taxi_trips[\"datetime_for_weather\"] = taxi_trips['trip_start_timestamp'].dt.floor('h')"
   ]
  },
  {
   "cell_type": "markdown",
   "metadata": {},
   "source": [
    "#### taxi_trips transformation function\n"
   ]
  },
  {
   "cell_type": "code",
   "execution_count": 16,
   "metadata": {},
   "outputs": [],
   "source": [
    "def taxi_trips_transformations(taxi_trips: pd.DataFrame) -> pd.DataFrame:\n",
    "    \"\"\"\n",
    "    Perform transformations on a DataFrame containing taxi trip data.\n",
    "\n",
    "    Parameters:\n",
    "    - taxi_trips (pd.DataFrame): A pandas DataFrame containing taxi trip data.\n",
    "\n",
    "    Returns:\n",
    "    - pd.DataFrame: A DataFrame with the following transformations applied:\n",
    "        - Columns 'pickup_census_tract', 'dropoff_census_tract', 'pickup_centroid_location',\n",
    "          and 'dropoff_centroid_location' are dropped.\n",
    "        - Rows with missing values are dropped.\n",
    "        - Columns 'pickup_community_area' and 'dropoff_community_area' are renamed to\n",
    "          'pickup_community_area_id' and 'dropoff_community_area_id' respectively.\n",
    "        - A new column 'datetime_for_weather' is created, containing the hourly timestamp\n",
    "          of the 'trip_start_timestamp' column.\n",
    "    \"\"\"\n",
    "\n",
    "    # Error handling:\n",
    "    if not isinstance(taxi_trips, pd.DataFrame):\n",
    "        raise TypeError('taxi_trips is not a valid pandas DataFrame')\n",
    "    \n",
    "    columns_to_drop = ['pickup_census_tract', 'dropoff_census_tract', 'pickup_centroid_location', 'dropoff_centroid_location']\n",
    "    existing_columns = set(taxi_trips.columns)\n",
    "    for column in columns_to_drop:\n",
    "        if column not in existing_columns:\n",
    "            print(f\"Warning: Column '{column}' not found in DataFrame.\")\n",
    "\n",
    "    try:\n",
    "        taxi_trips['datetime_for_weather'] = pd.to_datetime(taxi_trips['trip_start_timestamp']).dt.floor('h')\n",
    "    except ValueError as e:\n",
    "        print(f\"Error converting timestamps: {e}\")\n",
    "\n",
    "    try:\n",
    "        taxi_trips.drop(['pickup_census_tract', 'dropoff_census_tract', 'pickup_centroid_location', 'dropoff_centroid_location'], axis=1, inplace=True)\n",
    "        taxi_trips.dropna(inplace=True)\n",
    "        taxi_trips.rename(columns={'pickup_community_area': 'pickup_community_area_id', 'dropoff_community_area': 'dropoff_community_area_id'}, inplace=True)\n",
    "        taxi_trips['datetime_for_weather'] = pd.to_datetime(taxi_trips['trip_start_timestamp']).dt.floor('h')\n",
    "    except Exception as e:\n",
    "        print(f\"An error occurred during data transformation: {e}\")\n",
    "    \n",
    "    \n",
    "    # def:\n",
    "    taxi_trips.drop(['pickup_census_tract','dropoff_census_tract', 'pickup_centroid_location', 'dropoff_centroid_location'], axis=1, inplace=True)\n",
    "    \n",
    "    taxi_trips.dropna(inplace=True)\n",
    "    \n",
    "    taxi_trips.rename(columns={\n",
    "        'pickup_community_area': 'pickup_community_area_id',\n",
    "        'dropoff_community_area': 'dropoff_community_area_id'},\n",
    "        inplace=True\n",
    "        )\n",
    "    \n",
    "    taxi_trips['datetime_for_weather'] = pd.to_datetime(taxi_trips['trip_start_timestamp']).dt.floor('h')\n",
    "\n",
    "    return taxi_trips\n"
   ]
  }
 ],
 "metadata": {
  "kernelspec": {
   "display_name": "venv",
   "language": "python",
   "name": "python3"
  },
  "language_info": {
   "codemirror_mode": {
    "name": "ipython",
    "version": 3
   },
   "file_extension": ".py",
   "mimetype": "text/x-python",
   "name": "python",
   "nbconvert_exporter": "python",
   "pygments_lexer": "ipython3",
   "version": "3.12.1"
  }
 },
 "nbformat": 4,
 "nbformat_minor": 2
}
