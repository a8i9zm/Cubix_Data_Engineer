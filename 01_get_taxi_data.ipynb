{
 "cells": [
  {
   "cell_type": "code",
   "execution_count": 1,
   "metadata": {},
   "outputs": [],
   "source": [
    "import json, os, requests\n",
    "from dateutil.relativedelta import relativedelta \n",
    "from datetime import datetime\n",
    "import pandas as pd"
   ]
  },
  {
   "cell_type": "code",
   "execution_count": 9,
   "metadata": {},
   "outputs": [
    {
     "data": {
      "text/plain": [
       "<Response [200]>"
      ]
     },
     "execution_count": 9,
     "metadata": {},
     "output_type": "execute_result"
    }
   ],
   "source": [
    "url =  'https://data.seattle.gov/resource/kzjm-xkqj.json?$$app_token=K8lHSYnyK4LMvOlwD4tzMGA0w'\n",
    "response = requests.get(url)\n",
    "response"
   ]
  },
  {
   "cell_type": "code",
   "execution_count": 11,
   "metadata": {},
   "outputs": [
    {
     "data": {
      "text/plain": [
       "<Response [400]>"
      ]
     },
     "execution_count": 11,
     "metadata": {},
     "output_type": "execute_result"
    }
   ],
   "source": [
    "url =  'https://data.seattle.gov/resource/kzjm-xkqj.json?'\n",
    "headers = {'X-App-Token':'K8lHSYnyK4LMvOlwD4tzMGA0w'}\n",
    "response = requests.get(url, headers)\n",
    "response"
   ]
  },
  {
   "cell_type": "code",
   "execution_count": 12,
   "metadata": {},
   "outputs": [
    {
     "data": {
      "text/plain": [
       "{'error': True, 'message': 'Unrecognized arguments [X-App-Token]'}"
      ]
     },
     "execution_count": 12,
     "metadata": {},
     "output_type": "execute_result"
    }
   ],
   "source": [
    "url = f\"https://data.cityofchicago.org/resource/ajtu-isnz.json?$where=trip_start_timestamp >= '2024-03-01T00:00:00.000' AND trip_start_timestamp <= '2024-03-01T23:59:59.000'&$limit=30000\"\n",
    "headers = {'X-App-Token':'K8lHSYnyK4LMvOlwD4tzMGA0w'}\n",
    "\n",
    "response = requests.get(url, headers)\n",
    "\n",
    "data = response.json()\n",
    "\n",
    "data"
   ]
  },
  {
   "cell_type": "code",
   "execution_count": 24,
   "metadata": {},
   "outputs": [
    {
     "data": {
      "text/plain": [
       "{'error': True, 'message': 'Unrecognized arguments [X-App-Token]'}"
      ]
     },
     "execution_count": 24,
     "metadata": {},
     "output_type": "execute_result"
    }
   ],
   "source": [
    "current_datetime = datetime.now() - relativedelta(months=2)\n",
    "\n",
    "formatted_datetime = current_datetime.strftime('%Y-%m-%d')\n",
    "\n",
    "\n",
    "url = f\"https://data.cityofchicago.org/resource/ajtu-isnz.json?$where=trip_start_timestamp >= '{formatted_datetime}T00:00:00.000' AND trip_start_timestamp <= '{formatted_datetime}T23:59:59.000'&$limit=30000\"\n",
    "headers = {'X-App-Token': os.environ.get('CHICAGO_API_TOKEN')}\n",
    "\n",
    "response = requests.get(url, headers)\n",
    "\n",
    "data = response.json()\n",
    "\n",
    "data"
   ]
  }
 ],
 "metadata": {
  "kernelspec": {
   "display_name": "venv",
   "language": "python",
   "name": "python3"
  },
  "language_info": {
   "codemirror_mode": {
    "name": "ipython",
    "version": 3
   },
   "file_extension": ".py",
   "mimetype": "text/x-python",
   "name": "python",
   "nbconvert_exporter": "python",
   "pygments_lexer": "ipython3",
   "version": "3.12.1"
  }
 },
 "nbformat": 4,
 "nbformat_minor": 2
}
