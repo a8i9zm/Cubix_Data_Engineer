{
 "cells": [
  {
   "cell_type": "code",
   "execution_count": 1,
   "metadata": {},
   "outputs": [],
   "source": [
    "from bs4 import BeautifulSoup\n",
    "import pandas as pd\n",
    "import requests"
   ]
  },
  {
   "cell_type": "code",
   "execution_count": 2,
   "metadata": {},
   "outputs": [],
   "source": [
    "response = requests.get(url=\"https://en.wikipedia.org/wiki/Community_areas_in_Chicago\")\n",
    "\n",
    "soup = BeautifulSoup(response.content, \"html.parser\")\n",
    "\n",
    "table = soup.find('table', class_='wikitable sortable plainrowheaders mw-datatable')"
   ]
  },
  {
   "cell_type": "code",
   "execution_count": 4,
   "metadata": {},
   "outputs": [],
   "source": [
    "data = []\n",
    "\n",
    "for row in table.tbody.find_all('tr')[2:-1]:\n",
    "    header_cell = row.find('th')\n",
    "    cells = row.find_all(\"td\")\n",
    "\n",
    "    area_code = cells[0].get_text(strip=True)\n",
    "    community_name = header_cell.a.get_text(strip=True)\n",
    "\n",
    "    data.append({'area_code': area_code, 'community_name': community_name})\n"
   ]
  },
  {
   "cell_type": "code",
   "execution_count": 7,
   "metadata": {},
   "outputs": [],
   "source": [
    "community_areas = pd.DataFrame(data)\n",
    "\n",
    "community_areas[\"area_code\"] = community_areas[\"area_code\"].astype('int')\n",
    "\n",
    "community_areas = community_areas.reset_index(drop=True)\n",
    "\n",
    "community_areas.to_csv('community_areas.csv', index=False)"
   ]
  }
 ],
 "metadata": {
  "kernelspec": {
   "display_name": "venv",
   "language": "python",
   "name": "python3"
  },
  "language_info": {
   "codemirror_mode": {
    "name": "ipython",
    "version": 3
   },
   "file_extension": ".py",
   "mimetype": "text/x-python",
   "name": "python",
   "nbconvert_exporter": "python",
   "pygments_lexer": "ipython3",
   "version": "3.12.1"
  }
 },
 "nbformat": 4,
 "nbformat_minor": 2
}
