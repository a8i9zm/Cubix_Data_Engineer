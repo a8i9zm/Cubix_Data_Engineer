{
 "cells": [
  {
   "cell_type": "code",
   "execution_count": null,
   "metadata": {},
   "outputs": [],
   "source": [
    "import json, os"
   ]
  },
  {
   "cell_type": "code",
   "execution_count": null,
   "metadata": {},
   "outputs": [],
   "source": [
    "filepath = r'../../data/json_handling/spotify_playlist.json'"
   ]
  },
  {
   "cell_type": "code",
   "execution_count": null,
   "metadata": {},
   "outputs": [],
   "source": [
    "\n",
    "with open(filepath) as json_file:\n",
    "    data = json.load(json_file)"
   ]
  },
  {
   "cell_type": "code",
   "execution_count": null,
   "metadata": {},
   "outputs": [],
   "source": [
    "for track in data['contents']['items']:\n",
    "    track_name = track['name']\n",
    "    print(f'Track name: {track['name']}')\n",
    "    for i in track['artists']:\n",
    "        print(f'Artist: {i['name']}')\n",
    "    print()"
   ]
  },
  {
   "cell_type": "code",
   "execution_count": null,
   "metadata": {},
   "outputs": [],
   "source": [
    "# Print the name of the 31st track\n",
    "track_to_check = data['contents']['items'][32]['name']\n",
    "\n",
    "print(f'The 31st track from the list is: {track_to_check}')"
   ]
  },
  {
   "cell_type": "code",
   "execution_count": null,
   "metadata": {},
   "outputs": [],
   "source": [
    "# 50 tracks total playcount\n",
    "totalcount = 0\n",
    "for track in data['contents']['items']:\n",
    "    #print(track['playCount'])\n",
    "    totalcount = totalcount + track['playCount']\n",
    "\n",
    "print(f'The 50 tracks total playcount: {totalcount}')"
   ]
  },
  {
   "cell_type": "code",
   "execution_count": null,
   "metadata": {},
   "outputs": [],
   "source": [
    "# lowest playcount\n",
    "lowestplaycount = data['contents']['items'][0]['playCount']\n",
    "\n",
    "for track in data['contents']['items']:\n",
    "    if track['playCount'] < lowestplaycount:\n",
    "        lowestplaycount = track['playCount']\n",
    "        song_name = track['name']\n",
    "\n",
    "print(f'The lowest playcount is \"{song_name}\" with playcount: {lowestplaycount}.')"
   ]
  }
 ],
 "metadata": {
  "kernelspec": {
   "display_name": "venv",
   "language": "python",
   "name": "python3"
  },
  "language_info": {
   "codemirror_mode": {
    "name": "ipython",
    "version": 3
   },
   "file_extension": ".py",
   "mimetype": "text/x-python",
   "name": "python",
   "nbconvert_exporter": "python",
   "pygments_lexer": "ipython3",
   "version": "3.12.1"
  }
 },
 "nbformat": 4,
 "nbformat_minor": 2
}
